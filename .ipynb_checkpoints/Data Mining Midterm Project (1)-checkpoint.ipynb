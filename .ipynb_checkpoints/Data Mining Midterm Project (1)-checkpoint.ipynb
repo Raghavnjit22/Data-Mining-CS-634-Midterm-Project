{
 "cells": [
  {
   "cell_type": "markdown",
   "metadata": {},
   "source": [
    "# Data Mining CS-634_Midterm_Project"
   ]
  },
  {
   "cell_type": "markdown",
   "metadata": {},
   "source": [
    "# Importing_Libraries"
   ]
  },
  {
   "cell_type": "code",
   "execution_count": 51,
   "metadata": {},
   "outputs": [],
   "source": [
    "import numpy as np \n",
    "import pandas as pd\n",
    "import itertools\n",
    "from itertools import combinations\n",
    "import warnings\n",
    "warnings.filterwarnings(\"ignore\")\n",
    "import time"
   ]
  },
  {
   "cell_type": "markdown",
   "metadata": {},
   "source": [
    "# Importing Datasets"
   ]
  },
  {
   "cell_type": "code",
   "execution_count": 52,
   "metadata": {},
   "outputs": [
    {
     "name": "stdout",
     "output_type": "stream",
     "text": [
      "Available datasets:\n",
      "1. AmazonBooks.csv\n",
      "2. BestBuy.csv\n",
      "3. Generic.csv\n",
      "4. Grocery Store.csv\n",
      "5. K-Mart.csv\n",
      "6. Nike.csv\n"
     ]
    },
    {
     "name": "stdin",
     "output_type": "stream",
     "text": [
      "Enter the number corresponding to the dataset you want to select:  1\n"
     ]
    },
    {
     "name": "stdout",
     "output_type": "stream",
     "text": [
      "You selected 'AmazonBooks.csv' as the dataset.\n",
      "Processing 'AmazonBooks.csv'...\n"
     ]
    }
   ],
   "source": [
    "import os\n",
    "\n",
    "def select_dataset():\n",
    "    # Get list of files in the folder\n",
    "    files = os.listdir(\"Datasets\")\n",
    "\n",
    "    # Print the list of datasets\n",
    "    print(\"Available datasets:\")\n",
    "    for i, file in enumerate(files):\n",
    "        print(f\"{i+1}. {file}\")\n",
    "\n",
    "    # Ask user to select a dataset\n",
    "    choice = int(input(\"Enter the number corresponding to the dataset you want to select: \"))\n",
    "\n",
    "    # Validate user input\n",
    "    if 1 <= choice <= len(files):\n",
    "        selected_dataset = files[choice-1]\n",
    "        print(f\"You selected '{selected_dataset}' as the dataset.\")\n",
    "        return selected_dataset\n",
    "    else:\n",
    "        print(\"Invalid choice. Please select a number within the range.\")\n",
    "        return None\n",
    "\n",
    "data = select_dataset()\n",
    "if data:\n",
    "    # Now you can use 'selected_dataset' variable to further process the selected dataset\n",
    "    print(f\"Processing '{data}'...\")\n",
    "    # Add your code to process the selected dataset here\n"
   ]
  },
  {
   "cell_type": "markdown",
   "metadata": {},
   "source": [
    "# Loading_Data "
   ]
  },
  {
   "cell_type": "code",
   "execution_count": 53,
   "metadata": {},
   "outputs": [],
   "source": [
    "df = pd.read_csv(\"Datasets//\" + data)"
   ]
  },
  {
   "cell_type": "code",
   "execution_count": 54,
   "metadata": {},
   "outputs": [
    {
     "name": "stdout",
     "output_type": "stream",
     "text": [
      "  A Beginner’s Guide Java: The Complete Reference Java For Dummies  \\\n",
      "0                  t                          NaN                t   \n",
      "1                  t                          NaN                t   \n",
      "2                  t                          NaN              NaN   \n",
      "3                  t                          NaN                t   \n",
      "4                NaN                            t                t   \n",
      "\n",
      "  Android Programming: The Big Nerd Ranch Head First Java 2nd Edition  \\\n",
      "0                                     NaN                         NaN   \n",
      "1                                     NaN                           t   \n",
      "2                                     NaN                           t   \n",
      "3                                     NaN                         NaN   \n",
      "4                                     NaN                           t   \n",
      "\n",
      "  Beginning Programming with Java Java 8 Pocket Guide  \\\n",
      "0                               t                   t   \n",
      "1                             NaN                 NaN   \n",
      "2                             NaN                 NaN   \n",
      "3                             NaN                 NaN   \n",
      "4                             NaN                 NaN   \n",
      "\n",
      "  C++ Programming in Easy Steps Effective Java (2nd Edition)  \\\n",
      "0                             t                            t   \n",
      "1                           NaN                          NaN   \n",
      "2                           NaN                            t   \n",
      "3                           NaN                            t   \n",
      "4                           NaN                          NaN   \n",
      "\n",
      "  HTML and CSS: Design and Build Websites  \n",
      "0                                     NaN  \n",
      "1                                     NaN  \n",
      "2                                     NaN  \n",
      "3                                       t  \n",
      "4                                       t  \n"
     ]
    }
   ],
   "source": [
    "print(df.head())"
   ]
  },
  {
   "cell_type": "markdown",
   "metadata": {},
   "source": [
    "# Assigining an index to each item listed in "
   ]
  },
  {
   "cell_type": "code",
   "execution_count": 55,
   "metadata": {},
   "outputs": [
    {
     "data": {
      "text/plain": [
       "{'A Beginner’s Guide': 1,\n",
       " 'Java: The Complete Reference': 2,\n",
       " 'Java For Dummies': 3,\n",
       " 'Android Programming: The Big Nerd Ranch': 4,\n",
       " 'Head First Java 2nd Edition': 5,\n",
       " 'Beginning Programming with Java': 6,\n",
       " 'Java 8 Pocket Guide': 7,\n",
       " 'C++ Programming in Easy Steps': 8,\n",
       " 'Effective Java (2nd Edition)': 9,\n",
       " 'HTML and CSS: Design and Build Websites': 10}"
      ]
     },
     "execution_count": 55,
     "metadata": {},
     "output_type": "execute_result"
    }
   ],
   "source": [
    "item_list = list(df.columns)\n",
    "item_dict = dict()\n",
    "\n",
    "for i, item in enumerate(item_list):\n",
    "    item_dict[item] = i + 1\n",
    "\n",
    "item_dict"
   ]
  },
  {
   "cell_type": "markdown",
   "metadata": {},
   "source": [
    "# Extracting Transactions from the Data"
   ]
  },
  {
   "cell_type": "code",
   "execution_count": 56,
   "metadata": {},
   "outputs": [],
   "source": [
    "transactions = list()\n",
    "\n",
    "for i, row in df.iterrows():\n",
    "    transaction = set()\n",
    "    \n",
    "    for item in item_dict:\n",
    "        if row[item] == 't':\n",
    "            transaction.add(item_dict[item])\n",
    "    transactions.append(transaction)"
   ]
  },
  {
   "cell_type": "code",
   "execution_count": 57,
   "metadata": {},
   "outputs": [
    {
     "data": {
      "text/plain": [
       "[{1, 3, 6, 7, 8, 9},\n",
       " {1, 3, 5},\n",
       " {1, 5, 9},\n",
       " {1, 3, 9, 10},\n",
       " {2, 3, 5, 10},\n",
       " {1, 4, 5, 7, 9},\n",
       " {1, 3, 4, 7, 9, 10},\n",
       " {4, 10},\n",
       " {2, 4, 6, 7},\n",
       " {2, 5, 6, 7, 8, 10},\n",
       " {4, 7},\n",
       " {2, 4, 6},\n",
       " {2, 6},\n",
       " {1, 2, 3, 4, 6, 7, 8},\n",
       " {8},\n",
       " set(),\n",
       " {4, 5, 6, 7, 9, 10},\n",
       " {8},\n",
       " {1, 2, 3, 4, 6, 7}]"
      ]
     },
     "execution_count": 57,
     "metadata": {},
     "output_type": "execute_result"
    }
   ],
   "source": [
    "transactions"
   ]
  },
  {
   "cell_type": "markdown",
   "metadata": {},
   "source": [
    "# Get Support Function that evaluates the support value for a set given all the transactions"
   ]
  },
  {
   "cell_type": "code",
   "execution_count": 58,
   "metadata": {},
   "outputs": [],
   "source": [
    "def get_support(transactions, item_set):\n",
    "    match_count = 0\n",
    "    for transaction in transactions:\n",
    "        if item_set.issubset(transaction):\n",
    "            match_count += 1\n",
    "            \n",
    "    return float(match_count/len(transactions))"
   ]
  },
  {
   "cell_type": "markdown",
   "metadata": {},
   "source": [
    "# self_join performs join based on the last level valid sets. It joins each sets together by performing union and if the length exceeds the current level, it will skip that set."
   ]
  },
  {
   "cell_type": "code",
   "execution_count": 59,
   "metadata": {},
   "outputs": [],
   "source": [
    "def self_join(frequent_item_sets_per_level, level):\n",
    "    current_level_candidates = list()\n",
    "    last_level_items = frequent_item_sets_per_level[level - 1]\n",
    "    \n",
    "    if len(last_level_items) == 0:\n",
    "        return current_level_candidates\n",
    "    \n",
    "    for i in range(len(last_level_items)):\n",
    "        for j in range(i+1, len(last_level_items)):\n",
    "            itemset_i = last_level_items[i][0]\n",
    "            itemset_j = last_level_items[j][0]\n",
    "            union_set = itemset_i.union(itemset_j)\n",
    "            \n",
    "            if union_set not in current_level_candidates and len(union_set) == level:\n",
    "                current_level_candidates.append(union_set)\n",
    "                \n",
    "    return current_level_candidates"
   ]
  },
  {
   "cell_type": "code",
   "execution_count": 60,
   "metadata": {},
   "outputs": [],
   "source": [
    "def get_single_drop_subsets(item_set):\n",
    "    single_drop_subsets = list()\n",
    "    for item in item_set:\n",
    "        temp = item_set.copy()\n",
    "        temp.remove(item)\n",
    "        single_drop_subsets.append(temp)\n",
    "        \n",
    "    return single_drop_subsets\n",
    "\n",
    "def is_valid_set(item_set, prev_level_sets):\n",
    "    single_drop_subsets = get_single_drop_subsets(item_set)\n",
    "    \n",
    "    for single_drop_set in single_drop_subsets:\n",
    "        if single_drop_set not in prev_level_sets:\n",
    "            return False\n",
    "    return True\n",
    "\n",
    "def pruning(frequent_item_sets_per_level, level, candidate_set):\n",
    "    post_pruning_set = list()\n",
    "    if len(candidate_set) == 0:\n",
    "        return post_pruning_set\n",
    "    \n",
    "    prev_level_sets = list()\n",
    "    for item_set, _ in frequent_item_sets_per_level[level - 1]:\n",
    "        prev_level_sets.append(item_set)\n",
    "        \n",
    "    for item_set in candidate_set:\n",
    "        if is_valid_set(item_set, prev_level_sets):\n",
    "            post_pruning_set.append(item_set)\n",
    "            \n",
    "    return post_pruning_set"
   ]
  },
  {
   "cell_type": "markdown",
   "metadata": {},
   "source": [
    "# This is the main function which uses all the above described Utility functions to implement the Apriori Algorithm and generate the list of frequent itemsets for each level for the provided transactions and min_support value."
   ]
  },
  {
   "cell_type": "code",
   "execution_count": 61,
   "metadata": {},
   "outputs": [],
   "source": [
    "from collections import defaultdict\n",
    "def apriori(min_support):\n",
    "    frequent_item_sets_per_level = defaultdict(list)\n",
    "    print(\"level : 1\", end = \" \")\n",
    "    \n",
    "    for item in range(1, len(item_list) + 1):\n",
    "        support = get_support(transactions, {item})\n",
    "        if support >= min_support:\n",
    "            frequent_item_sets_per_level[1].append(({item}, support))\n",
    "        \n",
    "    for level in range(2, len(item_list) + 1):\n",
    "        print(level, end = \" \")\n",
    "        current_level_candidates = self_join(frequent_item_sets_per_level, level)\n",
    "\n",
    "        post_pruning_candidates = pruning(frequent_item_sets_per_level, level, current_level_candidates)\n",
    "        if len(post_pruning_candidates) == 0:\n",
    "            break\n",
    "\n",
    "        for item_set in post_pruning_candidates:\n",
    "            support = get_support(transactions, item_set)\n",
    "            if support >= min_support:\n",
    "                frequent_item_sets_per_level[level].append((item_set, support))\n",
    "                \n",
    "    return frequent_item_sets_per_level"
   ]
  },
  {
   "cell_type": "markdown",
   "metadata": {},
   "source": [
    "# Entering the Minimum Support Value"
   ]
  },
  {
   "cell_type": "code",
   "execution_count": 62,
   "metadata": {
    "jp-MarkdownHeadingCollapsed": true
   },
   "outputs": [
    {
     "name": "stdin",
     "output_type": "stream",
     "text": [
      "Enter Minimum Support :  30\n"
     ]
    },
    {
     "name": "stdout",
     "output_type": "stream",
     "text": [
      "level : 1 2 3 "
     ]
    }
   ],
   "source": [
    "### print(\"Enter the Minimum Support : \")\n",
    "min_support = int(input(\"Enter Minimum Support : \"))\n",
    "min_support = (min_support)/100\n",
    "frequent_item_sets_per_level = apriori(min_support)"
   ]
  },
  {
   "cell_type": "markdown",
   "metadata": {},
   "source": [
    "# The below code produces a dictionary called item_support_dict which from frequent_item_sets_per_level that maps items to their support values"
   ]
  },
  {
   "cell_type": "code",
   "execution_count": 63,
   "metadata": {},
   "outputs": [],
   "source": [
    "item_support_dict = dict()\n",
    "item_list = list()\n",
    "\n",
    "key_list = list(item_dict.keys())\n",
    "val_list = list(item_dict.values())\n",
    "\n",
    "for level in frequent_item_sets_per_level:\n",
    "    for set_support_pair in frequent_item_sets_per_level[level]:\n",
    "        for i in set_support_pair[0]:\n",
    "            item_list.append(key_list[val_list.index(i)])\n",
    "        item_support_dict[frozenset(item_list)] = set_support_pair[1]\n",
    "        item_list = list()"
   ]
  },
  {
   "cell_type": "markdown",
   "metadata": {},
   "source": [
    "# The find_subset function takes the item and item_length as parameter and it returns all the possible combinations of elements inside the items"
   ]
  },
  {
   "cell_type": "code",
   "execution_count": 64,
   "metadata": {},
   "outputs": [],
   "source": [
    "def find_subset(item, item_length):\n",
    "    combs = []\n",
    "    for i in range(1, item_length + 1):\n",
    "        combs.append(list(combinations(item, i)))\n",
    "        \n",
    "    subsets = []\n",
    "    for comb in combs:\n",
    "        for elt in comb:\n",
    "            subsets.append(elt)\n",
    "            \n",
    "    return subsets"
   ]
  },
  {
   "cell_type": "markdown",
   "metadata": {},
   "source": [
    "# This function generates the association rules in accordance withe the minimum confidence value and the provided dictionary of itemsets against their support values. It takes the mininmum confidence value and support_dict as a parameter, and returns rules as a list."
   ]
  },
  {
   "cell_type": "code",
   "execution_count": 65,
   "metadata": {},
   "outputs": [],
   "source": [
    "def association_rules(min_confidence, support_dict):\n",
    "    rules = list()\n",
    "    for item, support in support_dict.items():\n",
    "        item_length = len(item)\n",
    "       \n",
    "        if item_length > 1:\n",
    "            subsets = find_subset(item, item_length)\n",
    "           \n",
    "            for A in subsets:\n",
    "                B = item.difference(A)\n",
    "               \n",
    "                if B:\n",
    "                    A = frozenset(A)\n",
    "                    \n",
    "                    AB = A | B\n",
    "                    \n",
    "                    confidence = support_dict[AB] / support_dict[A]\n",
    "                    if confidence >= min_confidence:\n",
    "                        rules.append((A, B, confidence))\n",
    "    \n",
    "    return rules"
   ]
  },
  {
   "cell_type": "code",
   "execution_count": 66,
   "metadata": {},
   "outputs": [
    {
     "name": "stdout",
     "output_type": "stream",
     "text": [
      "Enter the Minimum Confidence : \n"
     ]
    },
    {
     "name": "stdin",
     "output_type": "stream",
     "text": [
      " 20\n"
     ]
    }
   ],
   "source": [
    "print(\"Enter the Minimum Confidence : \")\n",
    "confidence = int(input())\n",
    "min_confidence = (confidence)/100\n",
    "association_rule = association_rules(min_confidence, support_dict = item_support_dict)"
   ]
  },
  {
   "cell_type": "markdown",
   "metadata": {},
   "source": [
    "# Output"
   ]
  },
  {
   "cell_type": "code",
   "execution_count": 67,
   "metadata": {},
   "outputs": [
    {
     "name": "stdout",
     "output_type": "stream",
     "text": [
      "Number of rules:  8\n",
      "{'Java For Dummies'} -> {'A Beginner’s Guide'} <confidence: 0.8571428571428571>\n",
      "{'A Beginner’s Guide'} -> {'Java For Dummies'} <confidence: 0.75>\n",
      "{'Java: The Complete Reference'} -> {'Beginning Programming with Java'} <confidence: 0.8571428571428571>\n",
      "{'Beginning Programming with Java'} -> {'Java: The Complete Reference'} <confidence: 0.75>\n",
      "{'Java 8 Pocket Guide'} -> {'Android Programming: The Big Nerd Ranch'} <confidence: 0.7777777777777778>\n",
      "{'Android Programming: The Big Nerd Ranch'} -> {'Java 8 Pocket Guide'} <confidence: 0.7777777777777778>\n",
      "{'Beginning Programming with Java'} -> {'Java 8 Pocket Guide'} <confidence: 0.75>\n",
      "{'Java 8 Pocket Guide'} -> {'Beginning Programming with Java'} <confidence: 0.6666666666666666>\n"
     ]
    }
   ],
   "source": [
    "print(\"Number of rules: \", len(association_rule))\n",
    "\n",
    "for rule in association_rule:\n",
    "    print('{0} -> {1} <confidence: {2}>'.format(set(rule[0]), set(rule[1]), rule[2]))\n"
   ]
  },
  {
   "cell_type": "markdown",
   "metadata": {},
   "source": [
    "# Using the_mlxtend Librarry and implementing the the apriori and FP Growth algorithm"
   ]
  },
  {
   "cell_type": "code",
   "execution_count": 68,
   "metadata": {},
   "outputs": [],
   "source": [
    "# 1] Apriori Algorithm"
   ]
  },
  {
   "cell_type": "code",
   "execution_count": 69,
   "metadata": {},
   "outputs": [
    {
     "name": "stdout",
     "output_type": "stream",
     "text": [
      "Apriori results \n",
      "\n",
      "Frequent Itemsets:\n",
      "     support                                           itemsets\n",
      "0   0.421053                               (A Beginner’s Guide)\n",
      "1   0.368421                     (Java: The Complete Reference)\n",
      "2   0.368421                                 (Java For Dummies)\n",
      "3   0.473684          (Android Programming: The Big Nerd Ranch)\n",
      "4   0.315789                      (Head First Java 2nd Edition)\n",
      "5   0.421053                  (Beginning Programming with Java)\n",
      "6   0.473684                              (Java 8 Pocket Guide)\n",
      "7   0.315789                     (Effective Java (2nd Edition))\n",
      "8   0.315789          (HTML and CSS: Design and Build Websites)\n",
      "9   0.315789             (Java For Dummies, A Beginner’s Guide)\n",
      "10  0.315789  (Java: The Complete Reference, Beginning Progr...\n",
      "11  0.368421  (Java 8 Pocket Guide, Android Programming: The...\n",
      "12  0.315789  (Beginning Programming with Java, Java 8 Pocke...\n"
     ]
    }
   ],
   "source": [
    "from mlxtend.frequent_patterns import apriori, fpgrowth\n",
    "from mlxtend.frequent_patterns import association_rules\n",
    "\n",
    "# Convert the 'Items' column to a one-hot encoded format\n",
    "df_encoded = df.replace('t', 1)\n",
    "\n",
    "start_apriori = time.time()\n",
    "# Apply Apriori algorithm\n",
    "frequent_itemsets = apriori(df_encoded.fillna(0), min_support=min_support, use_colnames=True)\n",
    "\n",
    "# Generate association rules\n",
    "rules = association_rules(frequent_itemsets, metric=\"confidence\", min_threshold=min_confidence)\n",
    "end_apriori = time.time()\n",
    "\n",
    "print(\"Apriori results \\n\")\n",
    "\n",
    "# Display the frequent itemsets and association rules\n",
    "print(\"Frequent Itemsets:\")\n",
    "print(frequent_itemsets)"
   ]
  },
  {
   "cell_type": "code",
   "execution_count": 70,
   "metadata": {},
   "outputs": [
    {
     "name": "stdout",
     "output_type": "stream",
     "text": [
      "\n",
      "Association Rules:\n",
      "                                 antecedents  \\\n",
      "0                         (Java For Dummies)   \n",
      "1                       (A Beginner’s Guide)   \n",
      "2             (Java: The Complete Reference)   \n",
      "3          (Beginning Programming with Java)   \n",
      "4                      (Java 8 Pocket Guide)   \n",
      "5  (Android Programming: The Big Nerd Ranch)   \n",
      "6          (Beginning Programming with Java)   \n",
      "7                      (Java 8 Pocket Guide)   \n",
      "\n",
      "                                 consequents  \n",
      "0                       (A Beginner’s Guide)  \n",
      "1                         (Java For Dummies)  \n",
      "2          (Beginning Programming with Java)  \n",
      "3             (Java: The Complete Reference)  \n",
      "4  (Android Programming: The Big Nerd Ranch)  \n",
      "5                      (Java 8 Pocket Guide)  \n",
      "6                      (Java 8 Pocket Guide)  \n",
      "7          (Beginning Programming with Java)  \n"
     ]
    }
   ],
   "source": [
    "print(\"\\nAssociation Rules:\")\n",
    "print(rules[['antecedents', 'consequents']])\n"
   ]
  },
  {
   "cell_type": "code",
   "execution_count": 46,
   "metadata": {},
   "outputs": [
    {
     "name": "stdout",
     "output_type": "stream",
     "text": [
      " Time taken for apriori :  0.007979869842529297 seconds\n"
     ]
    }
   ],
   "source": [
    "print(\" Time taken for apriori : \", end_apriori - start_apriori , \"seconds\")"
   ]
  },
  {
   "cell_type": "code",
   "execution_count": 71,
   "metadata": {},
   "outputs": [],
   "source": [
    "# 2] FP- Growthn Algorithm"
   ]
  },
  {
   "cell_type": "code",
   "execution_count": 72,
   "metadata": {},
   "outputs": [
    {
     "name": "stdout",
     "output_type": "stream",
     "text": [
      "\n",
      "FPgrowth results \n",
      "\n",
      "\n",
      "Frequent Itemsets:\n",
      "     support                                           itemsets\n",
      "0   0.473684                              (Java 8 Pocket Guide)\n",
      "1   0.421053                  (Beginning Programming with Java)\n",
      "2   0.421053                               (A Beginner’s Guide)\n",
      "3   0.368421                                 (Java For Dummies)\n",
      "4   0.315789                     (Effective Java (2nd Edition))\n",
      "5   0.315789                      (Head First Java 2nd Edition)\n",
      "6   0.315789          (HTML and CSS: Design and Build Websites)\n",
      "7   0.368421                     (Java: The Complete Reference)\n",
      "8   0.473684          (Android Programming: The Big Nerd Ranch)\n",
      "9   0.315789  (Beginning Programming with Java, Java 8 Pocke...\n",
      "10  0.315789             (Java For Dummies, A Beginner’s Guide)\n",
      "11  0.315789  (Java: The Complete Reference, Beginning Progr...\n",
      "12  0.368421  (Java 8 Pocket Guide, Android Programming: The...\n"
     ]
    }
   ],
   "source": [
    "start_FPgrowth = time.time()\n",
    "# Apply FPgrowth algorithm\n",
    "frequent_itemsets = fpgrowth(df_encoded.fillna(0), min_support=min_support, use_colnames=True)\n",
    "\n",
    "# Generate association rules\n",
    "rules = association_rules(frequent_itemsets, metric=\"confidence\", min_threshold=min_confidence)\n",
    "end_FPgrowth = time.time()\n",
    "\n",
    "print(\"\\nFPgrowth results \\n\\n\")\n",
    "# Display the frequent itemsets and association rules\n",
    "print(\"Frequent Itemsets:\")\n",
    "print(frequent_itemsets)\n"
   ]
  },
  {
   "cell_type": "code",
   "execution_count": 73,
   "metadata": {},
   "outputs": [
    {
     "name": "stdout",
     "output_type": "stream",
     "text": [
      "\n",
      "Association Rules:\n",
      "                                 antecedents  \\\n",
      "0          (Beginning Programming with Java)   \n",
      "1                      (Java 8 Pocket Guide)   \n",
      "2                         (Java For Dummies)   \n",
      "3                       (A Beginner’s Guide)   \n",
      "4             (Java: The Complete Reference)   \n",
      "5          (Beginning Programming with Java)   \n",
      "6                      (Java 8 Pocket Guide)   \n",
      "7  (Android Programming: The Big Nerd Ranch)   \n",
      "\n",
      "                                 consequents  \n",
      "0                      (Java 8 Pocket Guide)  \n",
      "1          (Beginning Programming with Java)  \n",
      "2                       (A Beginner’s Guide)  \n",
      "3                         (Java For Dummies)  \n",
      "4          (Beginning Programming with Java)  \n",
      "5             (Java: The Complete Reference)  \n",
      "6  (Android Programming: The Big Nerd Ranch)  \n",
      "7                      (Java 8 Pocket Guide)  \n"
     ]
    }
   ],
   "source": [
    "print(\"\\nAssociation Rules:\")\n",
    "print(rules[['antecedents', 'consequents']])\n",
    "end_FPgrowth = time.time()"
   ]
  },
  {
   "cell_type": "code",
   "execution_count": 74,
   "metadata": {},
   "outputs": [
    {
     "name": "stdout",
     "output_type": "stream",
     "text": [
      " Time taken for FPgrowth :  0.3782620429992676 seconds\n"
     ]
    }
   ],
   "source": [
    "print(\" Time taken for FPgrowth : \", end_FPgrowth - start_FPgrowth , \"seconds\")"
   ]
  },
  {
   "cell_type": "code",
   "execution_count": null,
   "metadata": {},
   "outputs": [],
   "source": []
  }
 ],
 "metadata": {
  "kernelspec": {
   "display_name": "Python 3 (ipykernel)",
   "language": "python",
   "name": "python3"
  },
  "language_info": {
   "codemirror_mode": {
    "name": "ipython",
    "version": 3
   },
   "file_extension": ".py",
   "mimetype": "text/x-python",
   "name": "python",
   "nbconvert_exporter": "python",
   "pygments_lexer": "ipython3",
   "version": "3.8.9"
  }
 },
 "nbformat": 4,
 "nbformat_minor": 4
}
